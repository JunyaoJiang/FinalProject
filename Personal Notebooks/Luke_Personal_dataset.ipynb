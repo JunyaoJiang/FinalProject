{
 "cells": [
  {
   "cell_type": "markdown",
   "metadata": {},
   "source": [
    "### Link\n",
    "- https://data.wprdc.org/dataset/property-assessments/resource/518b583f-7cc8-4f60-94d0-174cc98310dc"
   ]
  },
  {
   "cell_type": "code",
   "execution_count": 111,
   "metadata": {},
   "outputs": [
    {
     "data": {
      "text/html": [
       "<div>\n",
       "<style scoped>\n",
       "    .dataframe tbody tr th:only-of-type {\n",
       "        vertical-align: middle;\n",
       "    }\n",
       "\n",
       "    .dataframe tbody tr th {\n",
       "        vertical-align: top;\n",
       "    }\n",
       "\n",
       "    .dataframe thead th {\n",
       "        text-align: right;\n",
       "    }\n",
       "</style>\n",
       "<table border=\"1\" class=\"dataframe\">\n",
       "  <thead>\n",
       "    <tr style=\"text-align: right;\">\n",
       "      <th></th>\n",
       "      <th>PROPERTYCITY</th>\n",
       "      <th>PROPERTYSTATE</th>\n",
       "      <th>NEIGHCODE</th>\n",
       "      <th>NEIGHDESC</th>\n",
       "      <th>SALEDATE</th>\n",
       "      <th>SALEPRICE</th>\n",
       "      <th>NEIGHBORHOOD</th>\n",
       "    </tr>\n",
       "  </thead>\n",
       "  <tbody>\n",
       "    <tr>\n",
       "      <th>72269</th>\n",
       "      <td>PITTSBURGH</td>\n",
       "      <td>PA</td>\n",
       "      <td>11902</td>\n",
       "      <td>11902</td>\n",
       "      <td>09-27-1999</td>\n",
       "      <td>117500.0</td>\n",
       "      <td>NaN</td>\n",
       "    </tr>\n",
       "    <tr>\n",
       "      <th>356623</th>\n",
       "      <td>PITTSBURGH</td>\n",
       "      <td>PA</td>\n",
       "      <td>92604</td>\n",
       "      <td>MOUNT LEBANON TOWNSHIP</td>\n",
       "      <td>04-12-2018</td>\n",
       "      <td>270000.0</td>\n",
       "      <td>NaN</td>\n",
       "    </tr>\n",
       "    <tr>\n",
       "      <th>356036</th>\n",
       "      <td>PITTSBURGH</td>\n",
       "      <td>PA</td>\n",
       "      <td>92601</td>\n",
       "      <td>MOUNT LEBANON TOWNSHIP</td>\n",
       "      <td>07-06-2017</td>\n",
       "      <td>715000.0</td>\n",
       "      <td>NaN</td>\n",
       "    </tr>\n",
       "    <tr>\n",
       "      <th>511161</th>\n",
       "      <td>PITTSBURGH</td>\n",
       "      <td>PA</td>\n",
       "      <td>12102</td>\n",
       "      <td>WARD 21 - MANCHESTER</td>\n",
       "      <td>05-15-2019</td>\n",
       "      <td>25000.0</td>\n",
       "      <td>NaN</td>\n",
       "    </tr>\n",
       "    <tr>\n",
       "      <th>519040</th>\n",
       "      <td>PITTSBURGH</td>\n",
       "      <td>PA</td>\n",
       "      <td>81601</td>\n",
       "      <td>CHURCHILL BOROUGH</td>\n",
       "      <td>08-18-2017</td>\n",
       "      <td>263500.0</td>\n",
       "      <td>NaN</td>\n",
       "    </tr>\n",
       "  </tbody>\n",
       "</table>\n",
       "</div>"
      ],
      "text/plain": [
       "       PROPERTYCITY PROPERTYSTATE NEIGHCODE               NEIGHDESC  \\\n",
       "72269    PITTSBURGH            PA     11902                   11902   \n",
       "356623   PITTSBURGH            PA     92604  MOUNT LEBANON TOWNSHIP   \n",
       "356036   PITTSBURGH            PA     92601  MOUNT LEBANON TOWNSHIP   \n",
       "511161   PITTSBURGH            PA     12102    WARD 21 - MANCHESTER   \n",
       "519040   PITTSBURGH            PA     81601       CHURCHILL BOROUGH   \n",
       "\n",
       "          SALEDATE  SALEPRICE  NEIGHBORHOOD  \n",
       "72269   09-27-1999   117500.0           NaN  \n",
       "356623  04-12-2018   270000.0           NaN  \n",
       "356036  07-06-2017   715000.0           NaN  \n",
       "511161  05-15-2019    25000.0           NaN  \n",
       "519040  08-18-2017   263500.0           NaN  "
      ]
     },
     "execution_count": 111,
     "metadata": {},
     "output_type": "execute_result"
    }
   ],
   "source": [
    "#import the required modules\n",
    "import pandas as pd\n",
    "import numpy as np\n",
    "%matplotlib inline\n",
    "import datetime\n",
    "\n",
    "#import the data\n",
    "data = pd.read_csv(\"518b583f-7cc8-4f60-94d0-174cc98310dc.csv\")\n",
    "\n",
    "#remove data that doesnt meet certian criteria\n",
    "data = data[data['PROPERTYCITY'] == \"PITTSBURGH\"] \n",
    "data = data[data['SALEPRICE'] >= 10000] \n",
    "data = data[data['NEIGHDESC'] != \"\"] \n",
    "data = data[data['SALEDATE'] != \"\"] \n",
    "\n",
    "\n",
    "data.sample(5)"
   ]
  },
  {
   "cell_type": "code",
   "execution_count": 112,
   "metadata": {},
   "outputs": [],
   "source": [
    "#convert date formats and get rid of more unnessecary data\n",
    "def convert_to_year(dstr):\n",
    "    return datetime.date(int(dstr.split(\"-\")[2]), int(dstr.split(\"-\")[0]), int(dstr.split(\"-\")[1]))\n",
    "def fix_desc(dstr):\n",
    "    if(str(dstr).isdigit()):\n",
    "        return \"INVALID\"\n",
    "    return dstr\n",
    "timeData = data\n",
    "timeData['SALEDATE'] = timeData['SALEDATE'].apply(convert_to_year)\n",
    "timeData['NEIGHDESC'] = timeData['NEIGHDESC'].apply(fix_desc)\n",
    "timeData = timeData[timeData['NEIGHDESC'] != \"INVALID\"]\n",
    "\n",
    "#define the dates that will be used as the bounds\n",
    "cutoff1 = datetime.date(2010, 1, 1)\n",
    "cutoff2 = datetime.date(2015, 1, 1)\n",
    "cutoff3 = datetime.date(2020, 1, 1)\n",
    "\n",
    "#split the list into a the before and after\n",
    "data_old = timeData[timeData['SALEDATE'] >= cutoff1]\n",
    "data_old = data_old[data_old['SALEDATE'] < cutoff2] \n",
    "values_old = data_old.groupby(\"NEIGHDESC\")[\"SALEPRICE\"].mean()\n",
    "#values_old = values_old.sort_values()\n",
    "\n",
    "data_new = timeData[timeData['SALEDATE'] >= cutoff2]\n",
    "data_new = data_new[data_new['SALEDATE'] <= cutoff3]\n",
    "values_new = data_new.groupby(\"NEIGHDESC\")[\"SALEPRICE\"].mean()\n",
    "#values_new = values_new.sort_values()"
   ]
  },
  {
   "cell_type": "code",
   "execution_count": 113,
   "metadata": {},
   "outputs": [
    {
     "data": {
      "text/html": [
       "<div>\n",
       "<style scoped>\n",
       "    .dataframe tbody tr th:only-of-type {\n",
       "        vertical-align: middle;\n",
       "    }\n",
       "\n",
       "    .dataframe tbody tr th {\n",
       "        vertical-align: top;\n",
       "    }\n",
       "\n",
       "    .dataframe thead th {\n",
       "        text-align: right;\n",
       "    }\n",
       "</style>\n",
       "<table border=\"1\" class=\"dataframe\">\n",
       "  <thead>\n",
       "    <tr style=\"text-align: right;\">\n",
       "      <th></th>\n",
       "      <th>PROPERTYCITY</th>\n",
       "      <th>PROPERTYSTATE</th>\n",
       "      <th>NEIGHCODE</th>\n",
       "      <th>NEIGHDESC</th>\n",
       "      <th>SALEDATE</th>\n",
       "      <th>SALEPRICE</th>\n",
       "      <th>NEIGHBORHOOD</th>\n",
       "    </tr>\n",
       "  </thead>\n",
       "  <tbody>\n",
       "    <tr>\n",
       "      <th>515715</th>\n",
       "      <td>PITTSBURGH</td>\n",
       "      <td>PA</td>\n",
       "      <td>87403</td>\n",
       "      <td>WHITEHALL BOROUGH</td>\n",
       "      <td>2012-02-03</td>\n",
       "      <td>117500.0</td>\n",
       "      <td>NaN</td>\n",
       "    </tr>\n",
       "    <tr>\n",
       "      <th>92885</th>\n",
       "      <td>PITTSBURGH</td>\n",
       "      <td>PA</td>\n",
       "      <td>12102</td>\n",
       "      <td>WARD 21 - MANCHESTER</td>\n",
       "      <td>2012-07-09</td>\n",
       "      <td>192912.0</td>\n",
       "      <td>NaN</td>\n",
       "    </tr>\n",
       "    <tr>\n",
       "      <th>148890</th>\n",
       "      <td>PITTSBURGH</td>\n",
       "      <td>PA</td>\n",
       "      <td>81301</td>\n",
       "      <td>CASTLE SHANNON BOROUGH</td>\n",
       "      <td>2014-01-03</td>\n",
       "      <td>95500.0</td>\n",
       "      <td>NaN</td>\n",
       "    </tr>\n",
       "    <tr>\n",
       "      <th>547554</th>\n",
       "      <td>PITTSBURGH</td>\n",
       "      <td>PA</td>\n",
       "      <td>87302</td>\n",
       "      <td>PLEASANT HILLS BOROUGH</td>\n",
       "      <td>2014-06-04</td>\n",
       "      <td>137000.0</td>\n",
       "      <td>NaN</td>\n",
       "    </tr>\n",
       "    <tr>\n",
       "      <th>261051</th>\n",
       "      <td>PITTSBURGH</td>\n",
       "      <td>PA</td>\n",
       "      <td>87701</td>\n",
       "      <td>BALDWIN BOROUGH</td>\n",
       "      <td>2013-07-05</td>\n",
       "      <td>36500.0</td>\n",
       "      <td>NaN</td>\n",
       "    </tr>\n",
       "  </tbody>\n",
       "</table>\n",
       "</div>"
      ],
      "text/plain": [
       "       PROPERTYCITY PROPERTYSTATE NEIGHCODE               NEIGHDESC  \\\n",
       "515715   PITTSBURGH            PA     87403       WHITEHALL BOROUGH   \n",
       "92885    PITTSBURGH            PA     12102    WARD 21 - MANCHESTER   \n",
       "148890   PITTSBURGH            PA     81301  CASTLE SHANNON BOROUGH   \n",
       "547554   PITTSBURGH            PA     87302  PLEASANT HILLS BOROUGH   \n",
       "261051   PITTSBURGH            PA     87701         BALDWIN BOROUGH   \n",
       "\n",
       "          SALEDATE  SALEPRICE  NEIGHBORHOOD  \n",
       "515715  2012-02-03   117500.0           NaN  \n",
       "92885   2012-07-09   192912.0           NaN  \n",
       "148890  2014-01-03    95500.0           NaN  \n",
       "547554  2014-06-04   137000.0           NaN  \n",
       "261051  2013-07-05    36500.0           NaN  "
      ]
     },
     "execution_count": 113,
     "metadata": {},
     "output_type": "execute_result"
    }
   ],
   "source": [
    "data_old.sample(5)"
   ]
  },
  {
   "cell_type": "code",
   "execution_count": 114,
   "metadata": {},
   "outputs": [
    {
     "data": {
      "text/plain": [
       "<matplotlib.axes._subplots.AxesSubplot at 0x7f7ee4b41670>"
      ]
     },
     "execution_count": 114,
     "metadata": {},
     "output_type": "execute_result"
    },
    {
     "data": {
      "image/png": "[encoded data removed]",
      "text/plain": [
       "<Figure size 432x288 with 1 Axes>"
      ]
     },
     "metadata": {
      "needs_background": "light"
     },
     "output_type": "display_data"
    }
   ],
   "source": [
    "values_old.sort_values().plot(kind='line',rot=90)"
   ]
  },
  {
   "cell_type": "code",
   "execution_count": 115,
   "metadata": {},
   "outputs": [
    {
     "data": {
      "text/html": [
       "<div>\n",
       "<style scoped>\n",
       "    .dataframe tbody tr th:only-of-type {\n",
       "        vertical-align: middle;\n",
       "    }\n",
       "\n",
       "    .dataframe tbody tr th {\n",
       "        vertical-align: top;\n",
       "    }\n",
       "\n",
       "    .dataframe thead th {\n",
       "        text-align: right;\n",
       "    }\n",
       "</style>\n",
       "<table border=\"1\" class=\"dataframe\">\n",
       "  <thead>\n",
       "    <tr style=\"text-align: right;\">\n",
       "      <th></th>\n",
       "      <th>PROPERTYCITY</th>\n",
       "      <th>PROPERTYSTATE</th>\n",
       "      <th>NEIGHCODE</th>\n",
       "      <th>NEIGHDESC</th>\n",
       "      <th>SALEDATE</th>\n",
       "      <th>SALEPRICE</th>\n",
       "      <th>NEIGHBORHOOD</th>\n",
       "    </tr>\n",
       "  </thead>\n",
       "  <tbody>\n",
       "    <tr>\n",
       "      <th>237317</th>\n",
       "      <td>PITTSBURGH</td>\n",
       "      <td>PA</td>\n",
       "      <td>61W18</td>\n",
       "      <td>PENNSBURY VILLAGE</td>\n",
       "      <td>2016-09-02</td>\n",
       "      <td>80000.0</td>\n",
       "      <td>NaN</td>\n",
       "    </tr>\n",
       "    <tr>\n",
       "      <th>178809</th>\n",
       "      <td>PITTSBURGH</td>\n",
       "      <td>PA</td>\n",
       "      <td>83501</td>\n",
       "      <td>NaN</td>\n",
       "      <td>2019-06-16</td>\n",
       "      <td>120000.0</td>\n",
       "      <td>NaN</td>\n",
       "    </tr>\n",
       "    <tr>\n",
       "      <th>274587</th>\n",
       "      <td>PITTSBURGH</td>\n",
       "      <td>PA</td>\n",
       "      <td>54C35</td>\n",
       "      <td>RURAL</td>\n",
       "      <td>2018-08-27</td>\n",
       "      <td>25000.0</td>\n",
       "      <td>NaN</td>\n",
       "    </tr>\n",
       "    <tr>\n",
       "      <th>226872</th>\n",
       "      <td>PITTSBURGH</td>\n",
       "      <td>PA</td>\n",
       "      <td>87403</td>\n",
       "      <td>WHITEHALL BOROUGH</td>\n",
       "      <td>2015-08-11</td>\n",
       "      <td>299900.0</td>\n",
       "      <td>NaN</td>\n",
       "    </tr>\n",
       "    <tr>\n",
       "      <th>542338</th>\n",
       "      <td>PITTSBURGH</td>\n",
       "      <td>PA</td>\n",
       "      <td>93401</td>\n",
       "      <td>PENN HILLS TOWNSHIP</td>\n",
       "      <td>2018-10-31</td>\n",
       "      <td>28000.0</td>\n",
       "      <td>NaN</td>\n",
       "    </tr>\n",
       "  </tbody>\n",
       "</table>\n",
       "</div>"
      ],
      "text/plain": [
       "       PROPERTYCITY PROPERTYSTATE NEIGHCODE            NEIGHDESC    SALEDATE  \\\n",
       "237317   PITTSBURGH            PA     61W18    PENNSBURY VILLAGE  2016-09-02   \n",
       "178809   PITTSBURGH            PA     83501                  NaN  2019-06-16   \n",
       "274587   PITTSBURGH            PA     54C35                RURAL  2018-08-27   \n",
       "226872   PITTSBURGH            PA     87403    WHITEHALL BOROUGH  2015-08-11   \n",
       "542338   PITTSBURGH            PA     93401  PENN HILLS TOWNSHIP  2018-10-31   \n",
       "\n",
       "        SALEPRICE  NEIGHBORHOOD  \n",
       "237317    80000.0           NaN  \n",
       "178809   120000.0           NaN  \n",
       "274587    25000.0           NaN  \n",
       "226872   299900.0           NaN  \n",
       "542338    28000.0           NaN  "
      ]
     },
     "execution_count": 115,
     "metadata": {},
     "output_type": "execute_result"
    }
   ],
   "source": [
    "data_new.sample(5)"
   ]
  },
  {
   "cell_type": "code",
   "execution_count": 116,
   "metadata": {},
   "outputs": [
    {
     "data": {
      "text/plain": [
       "<matplotlib.axes._subplots.AxesSubplot at 0x7f7ee5221310>"
      ]
     },
     "execution_count": 116,
     "metadata": {},
     "output_type": "execute_result"
    },
    {
     "data": {
      "image/png": "[encoded data removed]",
      "text/plain": [
       "<Figure size 432x288 with 1 Axes>"
      ]
     },
     "metadata": {
      "needs_background": "light"
     },
     "output_type": "display_data"
    }
   ],
   "source": [
    "values_new.sort_values().plot(kind='line',rot=90)"
   ]
  },
  {
   "cell_type": "code",
   "execution_count": 118,
   "metadata": {},
   "outputs": [
    {
     "data": {
      "text/plain": [
       "<matplotlib.axes._subplots.AxesSubplot at 0x7f7ee5152820>"
      ]
     },
     "execution_count": 118,
     "metadata": {},
     "output_type": "execute_result"
    },
    {
     "data": {
      "image/png": "[encoded data removed]",
      "text/plain": [
       "<Figure size 432x288 with 1 Axes>"
      ]
     },
     "metadata": {
      "needs_background": "light"
     },
     "output_type": "display_data"
    }
   ],
   "source": [
    "#calculate the list of how the property values have changed and get the highest ones\n",
    "values_change = values_new-values_old\n",
    "values_change = values_change.dropna()\n",
    "values_change.sort_values().plot(kind='line',rot=90)"
   ]
  },
  {
   "cell_type": "code",
   "execution_count": 122,
   "metadata": {},
   "outputs": [
    {
     "data": {
      "text/plain": [
       "NEIGHDESC\n",
       "BEACON STREET                      1.382781e+05\n",
       "FIRST AVENUE                       1.486667e+05\n",
       "WARD 24 - TROY HILL                1.558835e+05\n",
       "SHADYSIDE                          1.559814e+05\n",
       "VILLAGE AT SHADYSIDE               1.595155e+05\n",
       "BELLEFIELD                         1.779387e+05\n",
       "STRIP LOFT                         1.877732e+05\n",
       "POST WAR MUNI 107                  1.898065e+05\n",
       "BEN AVON HEIGHTS                   2.195776e+05\n",
       "WARD 22 - NORTH SHORE/ALLEGHENY    2.274137e+05\n",
       "PIATT PLACE                        2.536384e+05\n",
       "MUNI 119 CONDOS                    2.580625e+05\n",
       "PITTSBURGH URBAN                   3.472241e+05\n",
       "METROPOLITAN SAHDYSIDE             4.028365e+05\n",
       "SERENDIPITY                        5.327000e+05\n",
       "THE STRIP DISTRICT                 6.518360e+05\n",
       "WARD 21 - MANCHESTER               1.133869e+06\n",
       "WARD 25                            1.241094e+06\n",
       "RURAL                              1.521922e+06\n",
       "SUBURBAN (EAST OF PITTSBURGH)      2.687339e+06\n",
       "Name: SALEPRICE, dtype: float64"
      ]
     },
     "execution_count": 122,
     "metadata": {},
     "output_type": "execute_result"
    }
   ],
   "source": [
    "values_change.sort_values().tail(20)"
   ]
  },
  {
   "cell_type": "code",
   "execution_count": null,
   "metadata": {},
   "outputs": [],
   "source": []
  }
 ],
 "metadata": {
  "kernelspec": {
   "display_name": "Python 3",
   "language": "python",
   "name": "python3"
  },
  "language_info": {
   "codemirror_mode": {
    "name": "ipython",
    "version": 3
   },
   "file_extension": ".py",
   "mimetype": "text/x-python",
   "name": "python",
   "nbconvert_exporter": "python",
   "pygments_lexer": "ipython3",
   "version": "3.8.3"
  }
 },
 "nbformat": 4,
 "nbformat_minor": 4
}
